{
  "cells": [
    {
      "cell_type": "markdown",
      "metadata": {
        "id": "view-in-github",
        "colab_type": "text"
      },
      "source": [
        "<a href=\"https://colab.research.google.com/github/kongjann/car-eval.-ml/blob/main/car_evaluation_ml.ipynb\" target=\"_parent\"><img src=\"https://colab.research.google.com/assets/colab-badge.svg\" alt=\"Open In Colab\"/></a>"
      ]
    },
    {
      "cell_type": "markdown",
      "metadata": {
        "id": "7B83L084tXSB"
      },
      "source": [
        "INTRODUCTION\n",
        "\n",
        "Using the C5.0 decision tree algorithm, I build a Machine Learning classification model to facilitate consumer decision making by isolating satisfactory cars. \n",
        "\n",
        "I train a model to accurately identify substandard cars from better cars 98.6% of the time using characteristics such as price, comfort and estimated safety, among others.  \n",
        "\n",
        "I also conduct some data analysis, using stacked bar graphs to investigate any patterns within the data. \n",
        "\n",
        "I used the Car Evaluation Data Set from the UCI Machine Learning Repository, in which the dataset of cars have already been labelled as \"unacceptable\", \"acceptable\", \"good\" and \"very good\". \n",
        "\n",
        "The purpose of this model is to aid consumer purchasing decisions. Consumers may sometimes fail to make the optimal purchasing decision due to the presence of imperfect information in imperfect markets, which is exacerbated by a large number of choices on the market. With this model, I hope to significantly reduce their choices by weeding out less optimal cars, hence reducing the inefficiencies caused by imperfect information in economic markets. "
      ]
    },
    {
      "cell_type": "markdown",
      "metadata": {
        "id": "wjVjqfx1wpGE"
      },
      "source": [
        "PREPARATION\n",
        "\n",
        "I install and load the relevant packages and download the data set.  "
      ]
    },
    {
      "cell_type": "code",
      "execution_count": null,
      "metadata": {
        "id": "ftqm7Vrlw3DJ"
      },
      "outputs": [],
      "source": [
        "install.packages(\"C50\")\n",
        "library(C50)\n",
        "\n",
        "install.packages(\"gmodels\")\n",
        "library(gmodels)\n",
        "\n",
        "install.packages(\"ggplot2\")\n",
        "library(ggplot2)\n",
        "\n",
        "install.packages(\"GGally\")\n",
        "library(GGally)\n",
        "\n",
        "\n",
        "car <- read.csv(\"https://archive.ics.uci.edu/ml/machine-learning-databases/car/car.data\")"
      ]
    },
    {
      "cell_type": "markdown",
      "metadata": {
        "id": "fIBqn3C91H3E"
      },
      "source": [
        "I create a new column in the dataset called \"quality\", in which \"unacceptable\" cars are classified as \"bad\" and the rest are classified as \"good\". \n",
        " "
      ]
    },
    {
      "cell_type": "code",
      "execution_count": 60,
      "metadata": {
        "id": "OWHvuXuk683e"
      },
      "outputs": [],
      "source": [
        "car$quality[car$unacc == \"acc\"] <- \"good\"\n",
        "car$quality[car$unacc == \"good\"] <- \"good\"\n",
        "car$quality[car$unacc == \"vgood\"] <- \"good\"\n",
        "car$quality[car$unacc == \"unacc\"] <- \"bad\""
      ]
    },
    {
      "cell_type": "markdown",
      "metadata": {
        "id": "kvrTnbSW7DVw"
      },
      "source": [
        "I remove the \"acceptabilty\" column from the data set because the model would use the \"acceptability\" feature in prediction, causing a false 100% accuracy rate. Then I check the new data set."
      ]
    },
    {
      "cell_type": "code",
      "execution_count": null,
      "metadata": {
        "id": "wrk8tWB-7EdE"
      },
      "outputs": [],
      "source": [
        "car_new <- subset(car, select = -c(unacc))\n",
        "car_new"
      ]
    },
    {
      "cell_type": "markdown",
      "metadata": {
        "id": "CcQS6c_XDgOY"
      },
      "source": [
        "I relabel the column headers for easier understanding and check the dataset again. "
      ]
    },
    {
      "cell_type": "code",
      "execution_count": 62,
      "metadata": {
        "colab": {
          "base_uri": "https://localhost:8080/",
          "height": 1000
        },
        "id": "RvMnNQ1_DyqX",
        "outputId": "350487c0-0b02-41ac-959f-9e08415169b6"
      },
      "outputs": [
        {
          "output_type": "display_data",
          "data": {
            "text/html": [
              "<table class=\"dataframe\">\n",
              "<caption>A data.frame: 1727 × 7</caption>\n",
              "<thead>\n",
              "\t<tr><th></th><th scope=col>Price of car</th><th scope=col>Cost of maintenance</th><th scope=col>No. of doors</th><th scope=col>No. of seats</th><th scope=col>Size of boot</th><th scope=col>Safety of car</th><th scope=col>Quality</th></tr>\n",
              "\t<tr><th></th><th scope=col>&lt;chr&gt;</th><th scope=col>&lt;chr&gt;</th><th scope=col>&lt;chr&gt;</th><th scope=col>&lt;chr&gt;</th><th scope=col>&lt;chr&gt;</th><th scope=col>&lt;chr&gt;</th><th scope=col>&lt;fct&gt;</th></tr>\n",
              "</thead>\n",
              "<tbody>\n",
              "\t<tr><th scope=row>1</th><td>vhigh</td><td>vhigh</td><td>2</td><td>2   </td><td>small</td><td>med </td><td>bad</td></tr>\n",
              "\t<tr><th scope=row>2</th><td>vhigh</td><td>vhigh</td><td>2</td><td>2   </td><td>small</td><td>high</td><td>bad</td></tr>\n",
              "\t<tr><th scope=row>3</th><td>vhigh</td><td>vhigh</td><td>2</td><td>2   </td><td>med  </td><td>low </td><td>bad</td></tr>\n",
              "\t<tr><th scope=row>4</th><td>vhigh</td><td>vhigh</td><td>2</td><td>2   </td><td>med  </td><td>med </td><td>bad</td></tr>\n",
              "\t<tr><th scope=row>5</th><td>vhigh</td><td>vhigh</td><td>2</td><td>2   </td><td>med  </td><td>high</td><td>bad</td></tr>\n",
              "\t<tr><th scope=row>6</th><td>vhigh</td><td>vhigh</td><td>2</td><td>2   </td><td>big  </td><td>low </td><td>bad</td></tr>\n",
              "\t<tr><th scope=row>7</th><td>vhigh</td><td>vhigh</td><td>2</td><td>2   </td><td>big  </td><td>med </td><td>bad</td></tr>\n",
              "\t<tr><th scope=row>8</th><td>vhigh</td><td>vhigh</td><td>2</td><td>2   </td><td>big  </td><td>high</td><td>bad</td></tr>\n",
              "\t<tr><th scope=row>9</th><td>vhigh</td><td>vhigh</td><td>2</td><td>4   </td><td>small</td><td>low </td><td>bad</td></tr>\n",
              "\t<tr><th scope=row>10</th><td>vhigh</td><td>vhigh</td><td>2</td><td>4   </td><td>small</td><td>med </td><td>bad</td></tr>\n",
              "\t<tr><th scope=row>11</th><td>vhigh</td><td>vhigh</td><td>2</td><td>4   </td><td>small</td><td>high</td><td>bad</td></tr>\n",
              "\t<tr><th scope=row>12</th><td>vhigh</td><td>vhigh</td><td>2</td><td>4   </td><td>med  </td><td>low </td><td>bad</td></tr>\n",
              "\t<tr><th scope=row>13</th><td>vhigh</td><td>vhigh</td><td>2</td><td>4   </td><td>med  </td><td>med </td><td>bad</td></tr>\n",
              "\t<tr><th scope=row>14</th><td>vhigh</td><td>vhigh</td><td>2</td><td>4   </td><td>med  </td><td>high</td><td>bad</td></tr>\n",
              "\t<tr><th scope=row>15</th><td>vhigh</td><td>vhigh</td><td>2</td><td>4   </td><td>big  </td><td>low </td><td>bad</td></tr>\n",
              "\t<tr><th scope=row>16</th><td>vhigh</td><td>vhigh</td><td>2</td><td>4   </td><td>big  </td><td>med </td><td>bad</td></tr>\n",
              "\t<tr><th scope=row>17</th><td>vhigh</td><td>vhigh</td><td>2</td><td>4   </td><td>big  </td><td>high</td><td>bad</td></tr>\n",
              "\t<tr><th scope=row>18</th><td>vhigh</td><td>vhigh</td><td>2</td><td>more</td><td>small</td><td>low </td><td>bad</td></tr>\n",
              "\t<tr><th scope=row>19</th><td>vhigh</td><td>vhigh</td><td>2</td><td>more</td><td>small</td><td>med </td><td>bad</td></tr>\n",
              "\t<tr><th scope=row>20</th><td>vhigh</td><td>vhigh</td><td>2</td><td>more</td><td>small</td><td>high</td><td>bad</td></tr>\n",
              "\t<tr><th scope=row>21</th><td>vhigh</td><td>vhigh</td><td>2</td><td>more</td><td>med  </td><td>low </td><td>bad</td></tr>\n",
              "\t<tr><th scope=row>22</th><td>vhigh</td><td>vhigh</td><td>2</td><td>more</td><td>med  </td><td>med </td><td>bad</td></tr>\n",
              "\t<tr><th scope=row>23</th><td>vhigh</td><td>vhigh</td><td>2</td><td>more</td><td>med  </td><td>high</td><td>bad</td></tr>\n",
              "\t<tr><th scope=row>24</th><td>vhigh</td><td>vhigh</td><td>2</td><td>more</td><td>big  </td><td>low </td><td>bad</td></tr>\n",
              "\t<tr><th scope=row>25</th><td>vhigh</td><td>vhigh</td><td>2</td><td>more</td><td>big  </td><td>med </td><td>bad</td></tr>\n",
              "\t<tr><th scope=row>26</th><td>vhigh</td><td>vhigh</td><td>2</td><td>more</td><td>big  </td><td>high</td><td>bad</td></tr>\n",
              "\t<tr><th scope=row>27</th><td>vhigh</td><td>vhigh</td><td>3</td><td>2   </td><td>small</td><td>low </td><td>bad</td></tr>\n",
              "\t<tr><th scope=row>28</th><td>vhigh</td><td>vhigh</td><td>3</td><td>2   </td><td>small</td><td>med </td><td>bad</td></tr>\n",
              "\t<tr><th scope=row>29</th><td>vhigh</td><td>vhigh</td><td>3</td><td>2   </td><td>small</td><td>high</td><td>bad</td></tr>\n",
              "\t<tr><th scope=row>30</th><td>vhigh</td><td>vhigh</td><td>3</td><td>2   </td><td>med  </td><td>low </td><td>bad</td></tr>\n",
              "\t<tr><th scope=row>⋮</th><td>⋮</td><td>⋮</td><td>⋮</td><td>⋮</td><td>⋮</td><td>⋮</td><td>⋮</td></tr>\n",
              "\t<tr><th scope=row>1698</th><td>low</td><td>low</td><td>4    </td><td>more</td><td>big  </td><td>low </td><td>bad </td></tr>\n",
              "\t<tr><th scope=row>1699</th><td>low</td><td>low</td><td>4    </td><td>more</td><td>big  </td><td>med </td><td>good</td></tr>\n",
              "\t<tr><th scope=row>1700</th><td>low</td><td>low</td><td>4    </td><td>more</td><td>big  </td><td>high</td><td>good</td></tr>\n",
              "\t<tr><th scope=row>1701</th><td>low</td><td>low</td><td>5more</td><td>2   </td><td>small</td><td>low </td><td>bad </td></tr>\n",
              "\t<tr><th scope=row>1702</th><td>low</td><td>low</td><td>5more</td><td>2   </td><td>small</td><td>med </td><td>bad </td></tr>\n",
              "\t<tr><th scope=row>1703</th><td>low</td><td>low</td><td>5more</td><td>2   </td><td>small</td><td>high</td><td>bad </td></tr>\n",
              "\t<tr><th scope=row>1704</th><td>low</td><td>low</td><td>5more</td><td>2   </td><td>med  </td><td>low </td><td>bad </td></tr>\n",
              "\t<tr><th scope=row>1705</th><td>low</td><td>low</td><td>5more</td><td>2   </td><td>med  </td><td>med </td><td>bad </td></tr>\n",
              "\t<tr><th scope=row>1706</th><td>low</td><td>low</td><td>5more</td><td>2   </td><td>med  </td><td>high</td><td>bad </td></tr>\n",
              "\t<tr><th scope=row>1707</th><td>low</td><td>low</td><td>5more</td><td>2   </td><td>big  </td><td>low </td><td>bad </td></tr>\n",
              "\t<tr><th scope=row>1708</th><td>low</td><td>low</td><td>5more</td><td>2   </td><td>big  </td><td>med </td><td>bad </td></tr>\n",
              "\t<tr><th scope=row>1709</th><td>low</td><td>low</td><td>5more</td><td>2   </td><td>big  </td><td>high</td><td>bad </td></tr>\n",
              "\t<tr><th scope=row>1710</th><td>low</td><td>low</td><td>5more</td><td>4   </td><td>small</td><td>low </td><td>bad </td></tr>\n",
              "\t<tr><th scope=row>1711</th><td>low</td><td>low</td><td>5more</td><td>4   </td><td>small</td><td>med </td><td>good</td></tr>\n",
              "\t<tr><th scope=row>1712</th><td>low</td><td>low</td><td>5more</td><td>4   </td><td>small</td><td>high</td><td>good</td></tr>\n",
              "\t<tr><th scope=row>1713</th><td>low</td><td>low</td><td>5more</td><td>4   </td><td>med  </td><td>low </td><td>bad </td></tr>\n",
              "\t<tr><th scope=row>1714</th><td>low</td><td>low</td><td>5more</td><td>4   </td><td>med  </td><td>med </td><td>good</td></tr>\n",
              "\t<tr><th scope=row>1715</th><td>low</td><td>low</td><td>5more</td><td>4   </td><td>med  </td><td>high</td><td>good</td></tr>\n",
              "\t<tr><th scope=row>1716</th><td>low</td><td>low</td><td>5more</td><td>4   </td><td>big  </td><td>low </td><td>bad </td></tr>\n",
              "\t<tr><th scope=row>1717</th><td>low</td><td>low</td><td>5more</td><td>4   </td><td>big  </td><td>med </td><td>good</td></tr>\n",
              "\t<tr><th scope=row>1718</th><td>low</td><td>low</td><td>5more</td><td>4   </td><td>big  </td><td>high</td><td>good</td></tr>\n",
              "\t<tr><th scope=row>1719</th><td>low</td><td>low</td><td>5more</td><td>more</td><td>small</td><td>low </td><td>bad </td></tr>\n",
              "\t<tr><th scope=row>1720</th><td>low</td><td>low</td><td>5more</td><td>more</td><td>small</td><td>med </td><td>good</td></tr>\n",
              "\t<tr><th scope=row>1721</th><td>low</td><td>low</td><td>5more</td><td>more</td><td>small</td><td>high</td><td>good</td></tr>\n",
              "\t<tr><th scope=row>1722</th><td>low</td><td>low</td><td>5more</td><td>more</td><td>med  </td><td>low </td><td>bad </td></tr>\n",
              "\t<tr><th scope=row>1723</th><td>low</td><td>low</td><td>5more</td><td>more</td><td>med  </td><td>med </td><td>good</td></tr>\n",
              "\t<tr><th scope=row>1724</th><td>low</td><td>low</td><td>5more</td><td>more</td><td>med  </td><td>high</td><td>good</td></tr>\n",
              "\t<tr><th scope=row>1725</th><td>low</td><td>low</td><td>5more</td><td>more</td><td>big  </td><td>low </td><td>bad </td></tr>\n",
              "\t<tr><th scope=row>1726</th><td>low</td><td>low</td><td>5more</td><td>more</td><td>big  </td><td>med </td><td>good</td></tr>\n",
              "\t<tr><th scope=row>1727</th><td>low</td><td>low</td><td>5more</td><td>more</td><td>big  </td><td>high</td><td>good</td></tr>\n",
              "</tbody>\n",
              "</table>\n"
            ],
            "text/markdown": "\nA data.frame: 1727 × 7\n\n| <!--/--> | Price of car &lt;chr&gt; | Cost of maintenance &lt;chr&gt; | No. of doors &lt;chr&gt; | No. of seats &lt;chr&gt; | Size of boot &lt;chr&gt; | Safety of car &lt;chr&gt; | Quality &lt;fct&gt; |\n|---|---|---|---|---|---|---|---|\n| 1 | vhigh | vhigh | 2 | 2    | small | med  | bad |\n| 2 | vhigh | vhigh | 2 | 2    | small | high | bad |\n| 3 | vhigh | vhigh | 2 | 2    | med   | low  | bad |\n| 4 | vhigh | vhigh | 2 | 2    | med   | med  | bad |\n| 5 | vhigh | vhigh | 2 | 2    | med   | high | bad |\n| 6 | vhigh | vhigh | 2 | 2    | big   | low  | bad |\n| 7 | vhigh | vhigh | 2 | 2    | big   | med  | bad |\n| 8 | vhigh | vhigh | 2 | 2    | big   | high | bad |\n| 9 | vhigh | vhigh | 2 | 4    | small | low  | bad |\n| 10 | vhigh | vhigh | 2 | 4    | small | med  | bad |\n| 11 | vhigh | vhigh | 2 | 4    | small | high | bad |\n| 12 | vhigh | vhigh | 2 | 4    | med   | low  | bad |\n| 13 | vhigh | vhigh | 2 | 4    | med   | med  | bad |\n| 14 | vhigh | vhigh | 2 | 4    | med   | high | bad |\n| 15 | vhigh | vhigh | 2 | 4    | big   | low  | bad |\n| 16 | vhigh | vhigh | 2 | 4    | big   | med  | bad |\n| 17 | vhigh | vhigh | 2 | 4    | big   | high | bad |\n| 18 | vhigh | vhigh | 2 | more | small | low  | bad |\n| 19 | vhigh | vhigh | 2 | more | small | med  | bad |\n| 20 | vhigh | vhigh | 2 | more | small | high | bad |\n| 21 | vhigh | vhigh | 2 | more | med   | low  | bad |\n| 22 | vhigh | vhigh | 2 | more | med   | med  | bad |\n| 23 | vhigh | vhigh | 2 | more | med   | high | bad |\n| 24 | vhigh | vhigh | 2 | more | big   | low  | bad |\n| 25 | vhigh | vhigh | 2 | more | big   | med  | bad |\n| 26 | vhigh | vhigh | 2 | more | big   | high | bad |\n| 27 | vhigh | vhigh | 3 | 2    | small | low  | bad |\n| 28 | vhigh | vhigh | 3 | 2    | small | med  | bad |\n| 29 | vhigh | vhigh | 3 | 2    | small | high | bad |\n| 30 | vhigh | vhigh | 3 | 2    | med   | low  | bad |\n| ⋮ | ⋮ | ⋮ | ⋮ | ⋮ | ⋮ | ⋮ | ⋮ |\n| 1698 | low | low | 4     | more | big   | low  | bad  |\n| 1699 | low | low | 4     | more | big   | med  | good |\n| 1700 | low | low | 4     | more | big   | high | good |\n| 1701 | low | low | 5more | 2    | small | low  | bad  |\n| 1702 | low | low | 5more | 2    | small | med  | bad  |\n| 1703 | low | low | 5more | 2    | small | high | bad  |\n| 1704 | low | low | 5more | 2    | med   | low  | bad  |\n| 1705 | low | low | 5more | 2    | med   | med  | bad  |\n| 1706 | low | low | 5more | 2    | med   | high | bad  |\n| 1707 | low | low | 5more | 2    | big   | low  | bad  |\n| 1708 | low | low | 5more | 2    | big   | med  | bad  |\n| 1709 | low | low | 5more | 2    | big   | high | bad  |\n| 1710 | low | low | 5more | 4    | small | low  | bad  |\n| 1711 | low | low | 5more | 4    | small | med  | good |\n| 1712 | low | low | 5more | 4    | small | high | good |\n| 1713 | low | low | 5more | 4    | med   | low  | bad  |\n| 1714 | low | low | 5more | 4    | med   | med  | good |\n| 1715 | low | low | 5more | 4    | med   | high | good |\n| 1716 | low | low | 5more | 4    | big   | low  | bad  |\n| 1717 | low | low | 5more | 4    | big   | med  | good |\n| 1718 | low | low | 5more | 4    | big   | high | good |\n| 1719 | low | low | 5more | more | small | low  | bad  |\n| 1720 | low | low | 5more | more | small | med  | good |\n| 1721 | low | low | 5more | more | small | high | good |\n| 1722 | low | low | 5more | more | med   | low  | bad  |\n| 1723 | low | low | 5more | more | med   | med  | good |\n| 1724 | low | low | 5more | more | med   | high | good |\n| 1725 | low | low | 5more | more | big   | low  | bad  |\n| 1726 | low | low | 5more | more | big   | med  | good |\n| 1727 | low | low | 5more | more | big   | high | good |\n\n",
            "text/latex": "A data.frame: 1727 × 7\n\\begin{tabular}{r|lllllll}\n  & Price of car & Cost of maintenance & No. of doors & No. of seats & Size of boot & Safety of car & Quality\\\\\n  & <chr> & <chr> & <chr> & <chr> & <chr> & <chr> & <fct>\\\\\n\\hline\n\t1 & vhigh & vhigh & 2 & 2    & small & med  & bad\\\\\n\t2 & vhigh & vhigh & 2 & 2    & small & high & bad\\\\\n\t3 & vhigh & vhigh & 2 & 2    & med   & low  & bad\\\\\n\t4 & vhigh & vhigh & 2 & 2    & med   & med  & bad\\\\\n\t5 & vhigh & vhigh & 2 & 2    & med   & high & bad\\\\\n\t6 & vhigh & vhigh & 2 & 2    & big   & low  & bad\\\\\n\t7 & vhigh & vhigh & 2 & 2    & big   & med  & bad\\\\\n\t8 & vhigh & vhigh & 2 & 2    & big   & high & bad\\\\\n\t9 & vhigh & vhigh & 2 & 4    & small & low  & bad\\\\\n\t10 & vhigh & vhigh & 2 & 4    & small & med  & bad\\\\\n\t11 & vhigh & vhigh & 2 & 4    & small & high & bad\\\\\n\t12 & vhigh & vhigh & 2 & 4    & med   & low  & bad\\\\\n\t13 & vhigh & vhigh & 2 & 4    & med   & med  & bad\\\\\n\t14 & vhigh & vhigh & 2 & 4    & med   & high & bad\\\\\n\t15 & vhigh & vhigh & 2 & 4    & big   & low  & bad\\\\\n\t16 & vhigh & vhigh & 2 & 4    & big   & med  & bad\\\\\n\t17 & vhigh & vhigh & 2 & 4    & big   & high & bad\\\\\n\t18 & vhigh & vhigh & 2 & more & small & low  & bad\\\\\n\t19 & vhigh & vhigh & 2 & more & small & med  & bad\\\\\n\t20 & vhigh & vhigh & 2 & more & small & high & bad\\\\\n\t21 & vhigh & vhigh & 2 & more & med   & low  & bad\\\\\n\t22 & vhigh & vhigh & 2 & more & med   & med  & bad\\\\\n\t23 & vhigh & vhigh & 2 & more & med   & high & bad\\\\\n\t24 & vhigh & vhigh & 2 & more & big   & low  & bad\\\\\n\t25 & vhigh & vhigh & 2 & more & big   & med  & bad\\\\\n\t26 & vhigh & vhigh & 2 & more & big   & high & bad\\\\\n\t27 & vhigh & vhigh & 3 & 2    & small & low  & bad\\\\\n\t28 & vhigh & vhigh & 3 & 2    & small & med  & bad\\\\\n\t29 & vhigh & vhigh & 3 & 2    & small & high & bad\\\\\n\t30 & vhigh & vhigh & 3 & 2    & med   & low  & bad\\\\\n\t⋮ & ⋮ & ⋮ & ⋮ & ⋮ & ⋮ & ⋮ & ⋮\\\\\n\t1698 & low & low & 4     & more & big   & low  & bad \\\\\n\t1699 & low & low & 4     & more & big   & med  & good\\\\\n\t1700 & low & low & 4     & more & big   & high & good\\\\\n\t1701 & low & low & 5more & 2    & small & low  & bad \\\\\n\t1702 & low & low & 5more & 2    & small & med  & bad \\\\\n\t1703 & low & low & 5more & 2    & small & high & bad \\\\\n\t1704 & low & low & 5more & 2    & med   & low  & bad \\\\\n\t1705 & low & low & 5more & 2    & med   & med  & bad \\\\\n\t1706 & low & low & 5more & 2    & med   & high & bad \\\\\n\t1707 & low & low & 5more & 2    & big   & low  & bad \\\\\n\t1708 & low & low & 5more & 2    & big   & med  & bad \\\\\n\t1709 & low & low & 5more & 2    & big   & high & bad \\\\\n\t1710 & low & low & 5more & 4    & small & low  & bad \\\\\n\t1711 & low & low & 5more & 4    & small & med  & good\\\\\n\t1712 & low & low & 5more & 4    & small & high & good\\\\\n\t1713 & low & low & 5more & 4    & med   & low  & bad \\\\\n\t1714 & low & low & 5more & 4    & med   & med  & good\\\\\n\t1715 & low & low & 5more & 4    & med   & high & good\\\\\n\t1716 & low & low & 5more & 4    & big   & low  & bad \\\\\n\t1717 & low & low & 5more & 4    & big   & med  & good\\\\\n\t1718 & low & low & 5more & 4    & big   & high & good\\\\\n\t1719 & low & low & 5more & more & small & low  & bad \\\\\n\t1720 & low & low & 5more & more & small & med  & good\\\\\n\t1721 & low & low & 5more & more & small & high & good\\\\\n\t1722 & low & low & 5more & more & med   & low  & bad \\\\\n\t1723 & low & low & 5more & more & med   & med  & good\\\\\n\t1724 & low & low & 5more & more & med   & high & good\\\\\n\t1725 & low & low & 5more & more & big   & low  & bad \\\\\n\t1726 & low & low & 5more & more & big   & med  & good\\\\\n\t1727 & low & low & 5more & more & big   & high & good\\\\\n\\end{tabular}\n",
            "text/plain": [
              "     Price of car Cost of maintenance No. of doors No. of seats Size of boot\n",
              "1    vhigh        vhigh               2            2            small       \n",
              "2    vhigh        vhigh               2            2            small       \n",
              "3    vhigh        vhigh               2            2            med         \n",
              "4    vhigh        vhigh               2            2            med         \n",
              "5    vhigh        vhigh               2            2            med         \n",
              "6    vhigh        vhigh               2            2            big         \n",
              "7    vhigh        vhigh               2            2            big         \n",
              "8    vhigh        vhigh               2            2            big         \n",
              "9    vhigh        vhigh               2            4            small       \n",
              "10   vhigh        vhigh               2            4            small       \n",
              "11   vhigh        vhigh               2            4            small       \n",
              "12   vhigh        vhigh               2            4            med         \n",
              "13   vhigh        vhigh               2            4            med         \n",
              "14   vhigh        vhigh               2            4            med         \n",
              "15   vhigh        vhigh               2            4            big         \n",
              "16   vhigh        vhigh               2            4            big         \n",
              "17   vhigh        vhigh               2            4            big         \n",
              "18   vhigh        vhigh               2            more         small       \n",
              "19   vhigh        vhigh               2            more         small       \n",
              "20   vhigh        vhigh               2            more         small       \n",
              "21   vhigh        vhigh               2            more         med         \n",
              "22   vhigh        vhigh               2            more         med         \n",
              "23   vhigh        vhigh               2            more         med         \n",
              "24   vhigh        vhigh               2            more         big         \n",
              "25   vhigh        vhigh               2            more         big         \n",
              "26   vhigh        vhigh               2            more         big         \n",
              "27   vhigh        vhigh               3            2            small       \n",
              "28   vhigh        vhigh               3            2            small       \n",
              "29   vhigh        vhigh               3            2            small       \n",
              "30   vhigh        vhigh               3            2            med         \n",
              "⋮    ⋮            ⋮                   ⋮            ⋮            ⋮           \n",
              "1698 low          low                 4            more         big         \n",
              "1699 low          low                 4            more         big         \n",
              "1700 low          low                 4            more         big         \n",
              "1701 low          low                 5more        2            small       \n",
              "1702 low          low                 5more        2            small       \n",
              "1703 low          low                 5more        2            small       \n",
              "1704 low          low                 5more        2            med         \n",
              "1705 low          low                 5more        2            med         \n",
              "1706 low          low                 5more        2            med         \n",
              "1707 low          low                 5more        2            big         \n",
              "1708 low          low                 5more        2            big         \n",
              "1709 low          low                 5more        2            big         \n",
              "1710 low          low                 5more        4            small       \n",
              "1711 low          low                 5more        4            small       \n",
              "1712 low          low                 5more        4            small       \n",
              "1713 low          low                 5more        4            med         \n",
              "1714 low          low                 5more        4            med         \n",
              "1715 low          low                 5more        4            med         \n",
              "1716 low          low                 5more        4            big         \n",
              "1717 low          low                 5more        4            big         \n",
              "1718 low          low                 5more        4            big         \n",
              "1719 low          low                 5more        more         small       \n",
              "1720 low          low                 5more        more         small       \n",
              "1721 low          low                 5more        more         small       \n",
              "1722 low          low                 5more        more         med         \n",
              "1723 low          low                 5more        more         med         \n",
              "1724 low          low                 5more        more         med         \n",
              "1725 low          low                 5more        more         big         \n",
              "1726 low          low                 5more        more         big         \n",
              "1727 low          low                 5more        more         big         \n",
              "     Safety of car Quality\n",
              "1    med           bad    \n",
              "2    high          bad    \n",
              "3    low           bad    \n",
              "4    med           bad    \n",
              "5    high          bad    \n",
              "6    low           bad    \n",
              "7    med           bad    \n",
              "8    high          bad    \n",
              "9    low           bad    \n",
              "10   med           bad    \n",
              "11   high          bad    \n",
              "12   low           bad    \n",
              "13   med           bad    \n",
              "14   high          bad    \n",
              "15   low           bad    \n",
              "16   med           bad    \n",
              "17   high          bad    \n",
              "18   low           bad    \n",
              "19   med           bad    \n",
              "20   high          bad    \n",
              "21   low           bad    \n",
              "22   med           bad    \n",
              "23   high          bad    \n",
              "24   low           bad    \n",
              "25   med           bad    \n",
              "26   high          bad    \n",
              "27   low           bad    \n",
              "28   med           bad    \n",
              "29   high          bad    \n",
              "30   low           bad    \n",
              "⋮    ⋮             ⋮      \n",
              "1698 low           bad    \n",
              "1699 med           good   \n",
              "1700 high          good   \n",
              "1701 low           bad    \n",
              "1702 med           bad    \n",
              "1703 high          bad    \n",
              "1704 low           bad    \n",
              "1705 med           bad    \n",
              "1706 high          bad    \n",
              "1707 low           bad    \n",
              "1708 med           bad    \n",
              "1709 high          bad    \n",
              "1710 low           bad    \n",
              "1711 med           good   \n",
              "1712 high          good   \n",
              "1713 low           bad    \n",
              "1714 med           good   \n",
              "1715 high          good   \n",
              "1716 low           bad    \n",
              "1717 med           good   \n",
              "1718 high          good   \n",
              "1719 low           bad    \n",
              "1720 med           good   \n",
              "1721 high          good   \n",
              "1722 low           bad    \n",
              "1723 med           good   \n",
              "1724 high          good   \n",
              "1725 low           bad    \n",
              "1726 med           good   \n",
              "1727 high          good   "
            ]
          },
          "metadata": {}
        }
      ],
      "source": [
        "colnames(car_new) <- c(\"Price of car\", \"Cost of maintenance\", \n",
        "                       \"No. of doors\", \"No. of seats\", \n",
        "                       \"Size of boot\", \"Safety of car\", \"Quality\")\n",
        "car_new"
      ]
    },
    {
      "cell_type": "markdown",
      "metadata": {
        "id": "XTvbBKqtywvG"
      },
      "source": [
        "DATA EXPLORATION\n",
        "\n",
        "To visualise what proportion of the dataset is made of good and bad cars, we can use a bar chart and a pie chart!"
      ]
    },
    {
      "cell_type": "code",
      "execution_count": 29,
      "metadata": {
        "colab": {
          "base_uri": "https://localhost:8080/",
          "height": 857
        },
        "id": "LSqrnD7Dzdh6",
        "outputId": "810d78fa-51cf-4f16-a8d7-8784081a40cc"
      },
      "outputs": [
        {
          "output_type": "display_data",
          "data": {
            "text/plain": [
              "plot without title"
            ],
            "image/png": "[encoded data removed]"
          },
          "metadata": {
            "image/png": {
              "width": 420,
              "height": 420
            }
          }
        },
        {
          "output_type": "display_data",
          "data": {
            "text/plain": [
              "Plot with title “Car quality”"
            ],
            "image/png": "[encoded data removed]"
          },
          "metadata": {
            "image/png": {
              "width": 420,
              "height": 420
            }
          }
        }
      ],
      "source": [
        "car_new$Quality<- as.factor(car_new$Quality)\n",
        "\n",
        "ggplot(car_new, aes(x=reorder(Quality, Quality, function(x)-length(x)))) +\n",
        "  geom_bar(fill='steelblue') +\n",
        "  labs(x='Car quality')\n",
        "\n",
        "pie(table(car_new$Quality),\n",
        "    col = hcl.colors(length(table(car_new$Quality)), \"BluYl\"), main = \"Car quality\")"
      ]
    },
    {
      "cell_type": "markdown",
      "metadata": {
        "id": "MQyMrmgTDH5N"
      },
      "source": [
        "From the diagrams above, we can see that there are about twice as many bad cars than good cars! \n",
        "\n",
        "Building the model will really help narrow down consumers' options by removing less optimal cars."
      ]
    },
    {
      "cell_type": "markdown",
      "source": [
        "WHAT MAKES A GOOD CAR AND A BAD CAR?\n",
        "\n",
        "We can use stacked bar graphs to explore the relationships between the quality of a car and the various factors in the data. "
      ],
      "metadata": {
        "id": "wqGUt0rlrWhY"
      }
    },
    {
      "cell_type": "code",
      "execution_count": 61,
      "metadata": {
        "colab": {
          "base_uri": "https://localhost:8080/",
          "height": 437
        },
        "id": "y2GSPXayG-DN",
        "outputId": "0f120643-6f6b-4685-f4f2-932ac58e04db"
      },
      "outputs": [
        {
          "output_type": "display_data",
          "data": {
            "text/plain": [
              "Plot with title “Quality and Price of car”"
            ],
            "image/png": "[encoded data removed]"
          },
          "metadata": {
            "image/png": {
              "width": 420,
              "height": 420
            }
          }
        }
      ],
      "source": [
        "barplot(table(car_new$Quality, car_new$`Price of car`),\n",
        "main = \"Quality and Price of car\",\n",
        "xlab = \"Price of Car\",\n",
        "col = c(\"red\",\"green\")\n",
        ")\n",
        "legend(\"topleft\",\n",
        "c(\"Bad\",\"Good\"),\n",
        "fill = c(\"red\",\"green\")\n",
        ")\n"
      ]
    },
    {
      "cell_type": "markdown",
      "metadata": {
        "id": "SvWIv92L6S1L"
      },
      "source": [
        "Observation: The higher the price of the car, the more likely it is to be classified as a \"bad\" car. "
      ]
    },
    {
      "cell_type": "code",
      "execution_count": 33,
      "metadata": {
        "colab": {
          "base_uri": "https://localhost:8080/",
          "height": 437
        },
        "id": "k_k9xd6T1aQI",
        "outputId": "77c5f543-2755-4e35-8d00-7ed52db0ee5a"
      },
      "outputs": [
        {
          "output_type": "display_data",
          "data": {
            "text/plain": [
              "Plot with title “Quality and Cost of Maintenance”"
            ],
            "image/png": "[encoded data removed]"
          },
          "metadata": {
            "image/png": {
              "width": 420,
              "height": 420
            }
          }
        }
      ],
      "source": [
        "barplot(table(car_new$Quality, car_new$`Cost of maintenance`),\n",
        "main = \"Quality and Cost of Maintenance\",\n",
        "xlab = \"Cost of maintenance\",\n",
        "col = c(\"red\",\"green\")\n",
        ")\n",
        "legend(\"topleft\",\n",
        "c(\"Bad\",\"Good\"),\n",
        "fill = c(\"red\",\"green\")\n",
        ")\n"
      ]
    },
    {
      "cell_type": "markdown",
      "metadata": {
        "id": "6VLqh3M56i19"
      },
      "source": [
        "Observation:\n",
        "The higher the cost of maintenance, the more likely it is to be a \"bad\" car. "
      ]
    },
    {
      "cell_type": "code",
      "execution_count": 36,
      "metadata": {
        "colab": {
          "base_uri": "https://localhost:8080/",
          "height": 437
        },
        "id": "Ihr9x2iG2irV",
        "outputId": "eed55dd8-4b58-4821-e34a-39afa0e51000"
      },
      "outputs": [
        {
          "output_type": "display_data",
          "data": {
            "text/plain": [
              "Plot with title “Quality and no. of doors”"
            ],
            "image/png": "[encoded data removed]"
          },
          "metadata": {
            "image/png": {
              "width": 420,
              "height": 420
            }
          }
        }
      ],
      "source": [
        "barplot(table(car_new$Quality, car_new$`No. of doors`),\n",
        "main = \"Quality and no. of doors\",\n",
        "xlab = \"No. of doors\",\n",
        "col = c(\"red\",\"green\")\n",
        ")\n",
        "legend(\"topleft\",\n",
        "c(\"Bad\",\"Good\"),\n",
        "fill = c(\"red\",\"green\")\n",
        ")"
      ]
    },
    {
      "cell_type": "markdown",
      "metadata": {
        "id": "EUSXw6OM6yz_"
      },
      "source": [
        "Observation: The lower the number of doors, the higher chance of the car being seen as \"bad\". The number of doors has no effect on car quality from 4 doors onwards. "
      ]
    },
    {
      "cell_type": "code",
      "execution_count": 37,
      "metadata": {
        "colab": {
          "base_uri": "https://localhost:8080/",
          "height": 437
        },
        "id": "ZfeFDt0z264D",
        "outputId": "fde01c7e-962c-4133-ac8c-ad8f1f3119c7"
      },
      "outputs": [
        {
          "output_type": "display_data",
          "data": {
            "text/plain": [
              "Plot with title “Quality and no. of seats”"
            ],
            "image/png": "[encoded data removed]"
          },
          "metadata": {
            "image/png": {
              "width": 420,
              "height": 420
            }
          }
        }
      ],
      "source": [
        "barplot(table(car_new$Quality, car_new$`No. of seats`),\n",
        "main = \"Quality and no. of seats\",\n",
        "xlab = \"No. of seats\",\n",
        "col = c(\"red\",\"green\")\n",
        ")\n",
        "legend(\"topleft\",\n",
        "c(\"Bad\",\"Good\"),\n",
        "fill = c(\"red\",\"green\")\n",
        ")"
      ]
    },
    {
      "cell_type": "markdown",
      "metadata": {
        "id": "NABmBk0c6-9V"
      },
      "source": [
        "Observation: All cars with 2 seats are \"bad\". 4-seater cars are preferred to 4 or more seat cars. "
      ]
    },
    {
      "cell_type": "code",
      "execution_count": 38,
      "metadata": {
        "colab": {
          "base_uri": "https://localhost:8080/",
          "height": 437
        },
        "id": "6Jm7VzJ53Dp8",
        "outputId": "541c0900-3658-4e3d-8654-5b6feb954428"
      },
      "outputs": [
        {
          "output_type": "display_data",
          "data": {
            "text/plain": [
              "Plot with title “Quality and safety of car”"
            ],
            "image/png": "[encoded data removed]"
          },
          "metadata": {
            "image/png": {
              "width": 420,
              "height": 420
            }
          }
        }
      ],
      "source": [
        "barplot(table(car_new$Quality, car_new$`Safety of car`),\n",
        "main = \"Quality and safety of car\",\n",
        "xlab = \"Safety of car\",\n",
        "col = c(\"red\",\"green\")\n",
        ")\n",
        "legend(\"topleft\",\n",
        "c(\"Bad\",\"Good\"),\n",
        "fill = c(\"red\",\"green\")\n",
        ")"
      ]
    },
    {
      "cell_type": "markdown",
      "metadata": {
        "id": "yIeK96Kt7v4W"
      },
      "source": [
        "Observation: The higher the safety of the car, the higher chance of it being \"good\" quality. "
      ]
    },
    {
      "cell_type": "code",
      "execution_count": 39,
      "metadata": {
        "colab": {
          "base_uri": "https://localhost:8080/",
          "height": 437
        },
        "id": "_1txvUxr3Mnj",
        "outputId": "8ae1e894-3237-4f1f-c902-eafff34e6f87"
      },
      "outputs": [
        {
          "output_type": "display_data",
          "data": {
            "text/plain": [
              "Plot with title “Quality and size of boot”"
            ],
            "image/png": "[encoded data removed]"
          },
          "metadata": {
            "image/png": {
              "width": 420,
              "height": 420
            }
          }
        }
      ],
      "source": [
        "barplot(table(car_new$Quality, car_new$`Size of boot`),\n",
        "main = \"Quality and size of boot\",\n",
        "xlab = \"Size of boot\",\n",
        "col = c(\"red\",\"green\")\n",
        ")\n",
        "legend(\"topleft\",\n",
        "c(\"Bad\",\"Good\"),\n",
        "fill = c(\"red\",\"green\")\n",
        ")"
      ]
    },
    {
      "cell_type": "markdown",
      "metadata": {
        "id": "gk8rex9q7pUQ"
      },
      "source": [
        "Observation: The bigger the boot, the higher chance of the car being \"good\". "
      ]
    },
    {
      "cell_type": "markdown",
      "metadata": {
        "id": "ONj7CFuo7XUO"
      },
      "source": [
        "DATA WRANGLING\n",
        "\n",
        "After exploring the data, we can now move on to building the model. We start by preparing the data thoroughly. \n",
        "\n",
        "The data frame is not randomly ordered, which would cause problems later on when I split the data into training and testing data sets. I rearrange the data frame and check the rearranged data frame to ensure it has been shuffled properly. "
      ]
    },
    {
      "cell_type": "code",
      "execution_count": null,
      "metadata": {
        "id": "DEXCjYRC7eKz"
      },
      "outputs": [],
      "source": [
        "set.seed(12345)\n",
        "car_rand <- car_new[order(runif(1727)), ]\n",
        "\n",
        "car_rand"
      ]
    },
    {
      "cell_type": "markdown",
      "metadata": {
        "id": "hRGH0qP_7kxO"
      },
      "source": [
        "I wanted to find a testing and training split that yielded the most similar numbers of bad and good cars between both datasets. This was to ensure as minimal a difference between the accuracy rates when using the model on the respective data sets. \n",
        "\n",
        "I tried 90-10, 80-20 and 70-30. The 70-30 split was the best. "
      ]
    },
    {
      "cell_type": "code",
      "execution_count": 63,
      "metadata": {
        "id": "RNXy9trq7rMT",
        "colab": {
          "base_uri": "https://localhost:8080/",
          "height": 338
        },
        "outputId": "2f2b5eb0-db66-4e6a-b2e0-88aa395988b6"
      },
      "outputs": [
        {
          "output_type": "display_data",
          "data": {
            "text/plain": [
              "\n",
              "      bad      good \n",
              "0.6956242 0.3043758 "
            ]
          },
          "metadata": {}
        },
        {
          "output_type": "display_data",
          "data": {
            "text/plain": [
              "\n",
              "      bad      good \n",
              "0.7398844 0.2601156 "
            ]
          },
          "metadata": {}
        },
        {
          "output_type": "display_data",
          "data": {
            "text/plain": [
              "\n",
              "      bad      good \n",
              "0.6924747 0.3075253 "
            ]
          },
          "metadata": {}
        },
        {
          "output_type": "display_data",
          "data": {
            "text/plain": [
              "\n",
              "      bad      good \n",
              "0.7304348 0.2695652 "
            ]
          },
          "metadata": {}
        },
        {
          "output_type": "display_data",
          "data": {
            "text/plain": [
              "\n",
              "      bad      good \n",
              "0.6956162 0.3043838 "
            ]
          },
          "metadata": {}
        },
        {
          "output_type": "display_data",
          "data": {
            "text/plain": [
              "\n",
              "      bad      good \n",
              "0.7104247 0.2895753 "
            ]
          },
          "metadata": {}
        }
      ],
      "source": [
        "car_train90 <- car_rand[1:1554, ]\n",
        "car_test10 <- car_rand[1555:1727, ]\n",
        "\n",
        "prop.table(table(car_train90$Quality))\n",
        "prop.table(table(car_test10$Quality))\n",
        "\n",
        "\n",
        "\n",
        "car_train80 <- car_rand[1:1382, ]\n",
        "car_test20 <- car_rand[1383:1727, ]\n",
        "\n",
        "prop.table(table(car_train80$Quality))\n",
        "prop.table(table(car_test20$Quality))\n",
        "\n",
        "\n",
        "\n",
        "car_train70 <- car_rand[1:1209, ]\n",
        "car_test30 <- car_rand[1210:1727, ]\n",
        "\n",
        "prop.table(table(car_train70$Quality))\n",
        "prop.table(table(car_test30$Quality))"
      ]
    },
    {
      "cell_type": "markdown",
      "metadata": {
        "id": "RUdgQoRMAbJG"
      },
      "source": [
        "MODELLING\n",
        "\n",
        "I train a model using the training dataset and check the accuracy rate - 98.8%!"
      ]
    },
    {
      "cell_type": "code",
      "execution_count": 64,
      "metadata": {
        "colab": {
          "base_uri": "https://localhost:8080/",
          "height": 1000
        },
        "id": "qVtkT9OiBFjg",
        "outputId": "94649ddf-7d67-4459-ccf3-22eaaee95d85"
      },
      "outputs": [
        {
          "output_type": "display_data",
          "data": {
            "text/plain": [
              "\n",
              "Call:\n",
              "C5.0.default(x = car_train70[-7], y = car_train70$Quality)\n",
              "\n",
              "\n",
              "C5.0 [Release 2.07 GPL Edition]  \tFri Apr 14 23:18:28 2023\n",
              "-------------------------------\n",
              "\n",
              "Class specified by attribute `outcome'\n",
              "\n",
              "Read 1209 cases (7 attributes) from undefined.data\n",
              "\n",
              "Decision tree:\n",
              "\n",
              "No. of seats = 2: bad (414)\n",
              "No. of seats in {more,4}:\n",
              ":...Safety of car = low: bad (269)\n",
              "    Safety of car in {high,med}:\n",
              "    :...Price of car in {med,low}:\n",
              "        :...Size of boot in {med,big}: good (176/6)\n",
              "        :   Size of boot = small:\n",
              "        :   :...No. of doors in {4,3,5more}:\n",
              "        :       :...Safety of car = high: good (36)\n",
              "        :       :   Safety of car = med:\n",
              "        :       :   :...Cost of maintenance in {med,high,low}: good (22/2)\n",
              "        :       :       Cost of maintenance = vhigh: bad (10)\n",
              "        :       No. of doors = 2:\n",
              "        :       :...No. of seats = more: bad (13)\n",
              "        :           No. of seats = 4:\n",
              "        :           :...Safety of car = high: good (4)\n",
              "        :               Safety of car = med:\n",
              "        :               :...Cost of maintenance in {med,low}: good (4)\n",
              "        :                   Cost of maintenance in {vhigh,high}: bad (3)\n",
              "        Price of car in {vhigh,high}:\n",
              "        :...Cost of maintenance = vhigh: bad (56)\n",
              "            Cost of maintenance in {med,high,low}:\n",
              "            :...Size of boot = small:\n",
              "                :...Safety of car = med: bad (30)\n",
              "                :   Safety of car = high:\n",
              "                :   :...No. of doors = 2: bad (8/2)\n",
              "                :       No. of doors in {4,3,5more}:\n",
              "                :       :...Cost of maintenance in {med,low}: good (18)\n",
              "                :           Cost of maintenance = high:\n",
              "                :           :...Price of car = vhigh: bad (4)\n",
              "                :               Price of car = high: good (6)\n",
              "                Size of boot in {med,big}:\n",
              "                :...Cost of maintenance = high:\n",
              "                    :...Price of car = vhigh: bad (19)\n",
              "                    :   Price of car = high: good (26/3)\n",
              "                    Cost of maintenance in {med,low}:\n",
              "                    :...No. of doors in {4,3,5more}: good (73/1)\n",
              "                        No. of doors = 2:\n",
              "                        :...Safety of car = high: good (10)\n",
              "                            Safety of car = med:\n",
              "                            :...Size of boot = med: bad (5)\n",
              "                                Size of boot = big: good (3)\n",
              "\n",
              "\n",
              "Evaluation on training data (1209 cases):\n",
              "\n",
              "\t    Decision Tree   \n",
              "\t  ----------------  \n",
              "\t  Size      Errors  \n",
              "\n",
              "\t    22   14( 1.2%)   <<\n",
              "\n",
              "\n",
              "\t   (a)   (b)    <-classified as\n",
              "\t  ----  ----\n",
              "\t   829    12    (a): class bad\n",
              "\t     2   366    (b): class good\n",
              "\n",
              "\n",
              "\tAttribute usage:\n",
              "\n",
              "\t100.00%\tNo. of seats\n",
              "\t 65.76%\tSafety of car\n",
              "\t 43.51%\tPrice of car\n",
              "\t 38.88%\tSize of boot\n",
              "\t 24.57%\tCost of maintenance\n",
              "\t 18.11%\tNo. of doors\n",
              "\n",
              "\n",
              "Time: 0.0 secs\n"
            ]
          },
          "metadata": {}
        }
      ],
      "source": [
        "car_model <- C5.0(car_train70[-7], car_train70$Quality)\n",
        "summary(car_model)"
      ]
    },
    {
      "cell_type": "markdown",
      "metadata": {
        "id": "iaiXWMknBRBc"
      },
      "source": [
        "I apply the decision tree to the test dataset, and evaluate its performance using the table. It is 97.3% accurate. "
      ]
    },
    {
      "cell_type": "code",
      "execution_count": 54,
      "metadata": {
        "id": "a92oCWO3Bg1p",
        "colab": {
          "base_uri": "https://localhost:8080/"
        },
        "outputId": "d0f77ec8-b4a0-4c30-922d-4d0456b018e9"
      },
      "outputs": [
        {
          "output_type": "stream",
          "name": "stdout",
          "text": [
            "\n",
            " \n",
            "   Cell Contents\n",
            "|-------------------------|\n",
            "|                       N |\n",
            "|         N / Table Total |\n",
            "|-------------------------|\n",
            "\n",
            " \n",
            "Total Observations in Table:  518 \n",
            "\n",
            " \n",
            "                | predicted decision \n",
            "actual decision |       bad |      good | Row Total | \n",
            "----------------|-----------|-----------|-----------|\n",
            "            bad |       358 |        10 |       368 | \n",
            "                |     0.691 |     0.019 |           | \n",
            "----------------|-----------|-----------|-----------|\n",
            "           good |         4 |       146 |       150 | \n",
            "                |     0.008 |     0.282 |           | \n",
            "----------------|-----------|-----------|-----------|\n",
            "   Column Total |       362 |       156 |       518 | \n",
            "----------------|-----------|-----------|-----------|\n",
            "\n",
            " \n"
          ]
        }
      ],
      "source": [
        "car_pred <- predict(car_model, car_test30)\n",
        "\n",
        "CrossTable(car_test30$Quality, car_pred,\n",
        "prop.chisq = FALSE, prop.c = FALSE, prop.r = FALSE,\n",
        "dnn = c('actual decision', 'predicted decision'))"
      ]
    },
    {
      "cell_type": "markdown",
      "metadata": {
        "id": "I1Rs6eckBsSL"
      },
      "source": [
        "To improve performance further, I use adaptive boosting by applying the \"trials\" parameter in the C50 function. I use the standard number of trials, 10, as it is the de facto standard. After boosting, the training dataset has an accuracy rate of 99.9%."
      ]
    },
    {
      "cell_type": "code",
      "execution_count": 65,
      "metadata": {
        "id": "n9BlVEEghx3l",
        "colab": {
          "base_uri": "https://localhost:8080/",
          "height": 1000
        },
        "outputId": "55d7f1b5-c19c-498b-c906-af13c2172104"
      },
      "outputs": [
        {
          "output_type": "display_data",
          "data": {
            "text/plain": [
              "\n",
              "Call:\n",
              "C5.0.default(x = car_train70[-7], y = car_train70$Quality, trials = 10)\n",
              "\n",
              "\n",
              "C5.0 [Release 2.07 GPL Edition]  \tFri Apr 14 23:18:36 2023\n",
              "-------------------------------\n",
              "\n",
              "Class specified by attribute `outcome'\n",
              "\n",
              "Read 1209 cases (7 attributes) from undefined.data\n",
              "\n",
              "-----  Trial 0:  -----\n",
              "\n",
              "Decision tree:\n",
              "\n",
              "No. of seats = 2: bad (414)\n",
              "No. of seats in {more,4}:\n",
              ":...Safety of car = low: bad (269)\n",
              "    Safety of car in {high,med}:\n",
              "    :...Price of car in {med,low}:\n",
              "        :...Size of boot in {med,big}: good (176/6)\n",
              "        :   Size of boot = small:\n",
              "        :   :...No. of doors in {4,3,5more}:\n",
              "        :       :...Safety of car = high: good (36)\n",
              "        :       :   Safety of car = med:\n",
              "        :       :   :...Cost of maintenance in {med,high,low}: good (22/2)\n",
              "        :       :       Cost of maintenance = vhigh: bad (10)\n",
              "        :       No. of doors = 2:\n",
              "        :       :...No. of seats = more: bad (13)\n",
              "        :           No. of seats = 4:\n",
              "        :           :...Safety of car = high: good (4)\n",
              "        :               Safety of car = med:\n",
              "        :               :...Cost of maintenance in {med,low}: good (4)\n",
              "        :                   Cost of maintenance in {vhigh,high}: bad (3)\n",
              "        Price of car in {vhigh,high}:\n",
              "        :...Cost of maintenance = vhigh: bad (56)\n",
              "            Cost of maintenance in {med,high,low}:\n",
              "            :...Size of boot = small:\n",
              "                :...Safety of car = med: bad (30)\n",
              "                :   Safety of car = high:\n",
              "                :   :...No. of doors = 2: bad (8/2)\n",
              "                :       No. of doors in {4,3,5more}:\n",
              "                :       :...Cost of maintenance in {med,low}: good (18)\n",
              "                :           Cost of maintenance = high:\n",
              "                :           :...Price of car = vhigh: bad (4)\n",
              "                :               Price of car = high: good (6)\n",
              "                Size of boot in {med,big}:\n",
              "                :...Cost of maintenance = high:\n",
              "                    :...Price of car = vhigh: bad (19)\n",
              "                    :   Price of car = high: good (26/3)\n",
              "                    Cost of maintenance in {med,low}:\n",
              "                    :...No. of doors in {4,3,5more}: good (73/1)\n",
              "                        No. of doors = 2:\n",
              "                        :...Safety of car = high: good (10)\n",
              "                            Safety of car = med:\n",
              "                            :...Size of boot = med: bad (5)\n",
              "                                Size of boot = big: good (3)\n",
              "\n",
              "-----  Trial 1:  -----\n",
              "\n",
              "Decision tree:\n",
              "\n",
              "Safety of car = high:\n",
              ":...No. of seats = 2: bad (104.7)\n",
              ":   No. of seats in {more,4}:\n",
              ":   :...Cost of maintenance in {med,low}: good (147.3/5.3)\n",
              ":       Cost of maintenance in {vhigh,high}:\n",
              ":       :...Price of car in {med,low,high}: good (82.1/15.8)\n",
              ":           Price of car = vhigh: bad (21.8)\n",
              "Safety of car in {med,low}:\n",
              ":...Safety of car = low: bad (304.9)\n",
              "    Safety of car = med:\n",
              "    :...Size of boot = big:\n",
              "        :...No. of seats in {more,4}: good (58.7/9)\n",
              "        :   No. of seats = 2: bad (35.4)\n",
              "        Size of boot in {small,med}:\n",
              "        :...Cost of maintenance in {vhigh,high}: bad (332.6/18.8)\n",
              "            Cost of maintenance in {med,low}:\n",
              "            :...No. of seats = 2: bad (36.1)\n",
              "                No. of seats in {more,4}:\n",
              "                :...Price of car in {med,low}: good (33.9/2.3)\n",
              "                    Price of car in {vhigh,high}: bad (51.5/11.3)\n",
              "\n",
              "-----  Trial 2:  -----\n",
              "\n",
              "Decision tree:\n",
              "\n",
              "No. of seats = 2: bad (238)\n",
              "No. of seats in {more,4}:\n",
              ":...Safety of car = low: bad (154.7)\n",
              "    Safety of car in {high,med}:\n",
              "    :...Cost of maintenance in {med,low}:\n",
              "        :...No. of doors in {4,5more}: good (118.9/6.9)\n",
              "        :   No. of doors in {2,3}:\n",
              "        :   :...Size of boot = big: good (24.1)\n",
              "        :       Size of boot in {small,med}:\n",
              "        :       :...No. of seats = more: bad (68.9/25.9)\n",
              "        :           No. of seats = 4:\n",
              "        :           :...Safety of car = high: good (45.8)\n",
              "        :               Safety of car = med: bad (29.5/8.6)\n",
              "        Cost of maintenance in {vhigh,high}:\n",
              "        :...Price of car in {vhigh,high}:\n",
              "            :...Cost of maintenance = vhigh: bad (111.4)\n",
              "            :   Cost of maintenance = high:\n",
              "            :   :...Price of car = vhigh: bad (35.6)\n",
              "            :       Price of car = high:\n",
              "            :       :...No. of doors in {2,3}: bad (67.3/11.5)\n",
              "            :           No. of doors in {4,5more}: good (16.7/1.1)\n",
              "            Price of car in {med,low}:\n",
              "            :...Size of boot = big: good (24.7)\n",
              "                Size of boot in {small,med}:\n",
              "                :...No. of doors = 2: bad (99.1/12.6)\n",
              "                    No. of doors in {4,3,5more}:\n",
              "                    :...Safety of car = high: good (20.7)\n",
              "                        Safety of car = med:\n",
              "                        :...Size of boot = small: bad (55.6/16.1)\n",
              "                            Size of boot = med:\n",
              "                            :...No. of doors in {4,5more}: good (52.2)\n",
              "                                No. of doors = 3: bad (45.8/12.1)\n",
              "\n",
              "-----  Trial 3:  -----\n",
              "\n",
              "Decision tree:\n",
              "\n",
              "No. of seats = 2: bad (183.6)\n",
              "No. of seats in {more,4}:\n",
              ":...Safety of car = low: bad (119.3)\n",
              "    Safety of car in {high,med}:\n",
              "    :...Cost of maintenance = vhigh:\n",
              "        :...Price of car in {vhigh,high}: bad (85.9)\n",
              "        :   Price of car in {med,low}:\n",
              "        :   :...No. of doors in {4,5more}: good (31/3.1)\n",
              "        :       No. of doors in {2,3}:\n",
              "        :       :...Safety of car = high: good (22.5/6.2)\n",
              "        :           Safety of car = med: bad (56.5/2.2)\n",
              "        Cost of maintenance in {med,high,low}:\n",
              "        :...Price of car = low: good (174/12.8)\n",
              "            Price of car in {med,vhigh,high}:\n",
              "            :...Safety of car = high: good (191.2/27.9)\n",
              "                Safety of car = med:\n",
              "                :...Size of boot = small: bad (105.1/15.8)\n",
              "                    Size of boot in {med,big}:\n",
              "                    :...Cost of maintenance in {med,low}: good (110.2/15.2)\n",
              "                        Cost of maintenance = high:\n",
              "                        :...No. of doors = 2: bad (63/7.5)\n",
              "                            No. of doors in {4,3,5more}: good (66.7/27.6)\n",
              "\n",
              "-----  Trial 4:  -----\n",
              "\n",
              "Decision tree:\n",
              "\n",
              "No. of seats = 2: bad (142.7)\n",
              "No. of seats in {more,4}:\n",
              ":...Safety of car = low: bad (92.7)\n",
              "    Safety of car in {high,med}:\n",
              "    :...Price of car = vhigh:\n",
              "        :...Cost of maintenance in {vhigh,high}: bad (127.3)\n",
              "        :   Cost of maintenance in {med,low}:\n",
              "        :   :...Safety of car = high: good (38.1/6.7)\n",
              "        :       Safety of car = med: bad (60.7/20.5)\n",
              "        Price of car in {med,low,high}:\n",
              "        :...Cost of maintenance = vhigh:\n",
              "            :...Price of car = high: bad (48.9)\n",
              "            :   Price of car in {med,low}:\n",
              "            :   :...Size of boot in {small,med}: bad (112.9/28.8)\n",
              "            :       Size of boot = big: good (25.9)\n",
              "            Cost of maintenance in {med,high,low}:\n",
              "            :...Size of boot = big: good (67.1)\n",
              "                Size of boot in {small,med}:\n",
              "                :...No. of doors = 2:\n",
              "                    :...No. of seats = more: bad (135.1/29.9)\n",
              "                    :   No. of seats = 4: good (81.3/25)\n",
              "                    No. of doors in {4,3,5more}:\n",
              "                    :...Price of car = low: good (77.6)\n",
              "                        Price of car in {med,high}:\n",
              "                        :...Safety of car = high: good (42.7)\n",
              "                            Safety of car = med:\n",
              "                            :...Cost of maintenance in {med,\n",
              "                                :                       low}: good (90.6/19.4)\n",
              "                                Cost of maintenance = high: bad (65.5/22.8)\n",
              "\n",
              "-----  Trial 5:  -----\n",
              "\n",
              "Decision tree:\n",
              "\n",
              "No. of seats = 2: bad (112.2)\n",
              "No. of seats in {more,4}:\n",
              ":...Safety of car = low: bad (72.9)\n",
              "    Safety of car in {high,med}:\n",
              "    :...Price of car in {med,low}:\n",
              "        :...Size of boot = big: good (40.9)\n",
              "        :   Size of boot = small:\n",
              "        :   :...No. of seats = 4: good (99.3/21.8)\n",
              "        :   :   No. of seats = more:\n",
              "        :   :   :...No. of doors = 2: bad (54.9)\n",
              "        :   :       No. of doors in {4,3,5more}: good (61/21.3)\n",
              "        :   Size of boot = med:\n",
              "        :   :...Safety of car = high: good (88.6)\n",
              "        :       Safety of car = med:\n",
              "        :       :...No. of doors in {4,5more}: good (59.8)\n",
              "        :           No. of doors in {2,3}:\n",
              "        :           :...Cost of maintenance in {med,high,low}: good (80.2/21.2)\n",
              "        :               Cost of maintenance = vhigh: bad (31.8)\n",
              "        Price of car in {vhigh,high}:\n",
              "        :...Cost of maintenance = vhigh: bad (52.5)\n",
              "            Cost of maintenance in {med,high,low}:\n",
              "            :...Size of boot = small:\n",
              "                :...Safety of car = med: bad (66.4)\n",
              "                :   Safety of car = high:\n",
              "                :   :...Cost of maintenance in {med,high}: bad (49.3/9.7)\n",
              "                :       Cost of maintenance = low: good (27.4/5.3)\n",
              "                Size of boot in {med,big}:\n",
              "                :...Cost of maintenance in {med,low}: good (156.8/33)\n",
              "                    Cost of maintenance = high:\n",
              "                    :...Price of car = vhigh: bad (64.9)\n",
              "                        Price of car = high: good (90.3/34.2)\n",
              "\n",
              "-----  Trial 6:  -----\n",
              "\n",
              "Decision tree:\n",
              "\n",
              "No. of seats = 2: bad (88)\n",
              "No. of seats in {more,4}:\n",
              ":...Safety of car = low: bad (57.2)\n",
              "    Safety of car = high:\n",
              "    :...No. of doors = 2:\n",
              "    :   :...Size of boot = med: good (58.4/6.7)\n",
              "    :   :   Size of boot in {small,big}:\n",
              "    :   :   :...No. of seats = more: bad (71.5/3.4)\n",
              "    :   :       No. of seats = 4: good (29.9/6.9)\n",
              "    :   No. of doors in {4,3,5more}:\n",
              "    :   :...Cost of maintenance in {med,low}: good (88.9)\n",
              "    :       Cost of maintenance in {vhigh,high}:\n",
              "    :       :...Price of car in {med,low,high}: good (119.9/17.8)\n",
              "    :           Price of car = vhigh: bad (22.4)\n",
              "    Safety of car = med:\n",
              "    :...Size of boot = small:\n",
              "        :...Price of car in {vhigh,high}: bad (53.5)\n",
              "        :   Price of car in {med,low}:\n",
              "        :   :...Cost of maintenance in {med,low}: good (46.1/7.1)\n",
              "        :       Cost of maintenance in {vhigh,high}: bad (140.9/13.3)\n",
              "        Size of boot in {med,big}:\n",
              "        :...Size of boot = big: good (90/28.5)\n",
              "            Size of boot = med:\n",
              "            :...Price of car = low: good (63.7/18.7)\n",
              "                Price of car in {med,vhigh,high}:\n",
              "                :...No. of doors = 2: bad (115.3/3.4)\n",
              "                    No. of doors in {4,5more}: good (80.7/8.6)\n",
              "                    No. of doors = 3:\n",
              "                    :...No. of seats = more: good (32.9/2.9)\n",
              "                        No. of seats = 4: bad (49.6/3.4)\n",
              "\n",
              "-----  Trial 7:  -----\n",
              "\n",
              "Decision tree:\n",
              "\n",
              "No. of seats = 2: bad (68.4)\n",
              "No. of seats in {more,4}:\n",
              ":...Safety of car = low: bad (44.5)\n",
              "    Safety of car = high:\n",
              "    :...Price of car in {med,low}: good (143.8/25.8)\n",
              "    :   Price of car in {vhigh,high}:\n",
              "    :   :...Cost of maintenance = vhigh: bad (87.1)\n",
              "    :       Cost of maintenance in {med,high,low}:\n",
              "    :       :...Price of car = high: good (102.7/14.8)\n",
              "    :           Price of car = vhigh:\n",
              "    :           :...Cost of maintenance in {med,low}: good (42.5/6)\n",
              "    :               Cost of maintenance = high: bad (44)\n",
              "    Safety of car = med:\n",
              "    :...Cost of maintenance = vhigh: bad (198.6/30.6)\n",
              "        Cost of maintenance in {med,high,low}:\n",
              "        :...Price of car = low: good (77.3/9.7)\n",
              "            Price of car in {med,vhigh,high}:\n",
              "            :...Cost of maintenance = high:\n",
              "                :...Price of car = vhigh: bad (63.9)\n",
              "                :   Price of car in {med,high}:\n",
              "                :   :...Size of boot in {small,med}: bad (122.3/27.1)\n",
              "                :       Size of boot = big: good (12.4)\n",
              "                Cost of maintenance in {med,low}:\n",
              "                :...Price of car = med: good (58.1/10.2)\n",
              "                    Price of car in {vhigh,high}:\n",
              "                    :...Size of boot = small: bad (36.4)\n",
              "                        Size of boot = big: good (20.7)\n",
              "                        Size of boot = med:\n",
              "                        :...No. of doors in {2,3}: bad (61.5/10.4)\n",
              "                            No. of doors in {4,5more}: good (24.9)\n",
              "\n",
              "-----  Trial 8:  -----\n",
              "\n",
              "Decision tree:\n",
              "\n",
              "No. of seats = 2: bad (53.5)\n",
              "No. of seats in {more,4}:\n",
              ":...Safety of car = low: bad (34.7)\n",
              "    Safety of car in {high,med}:\n",
              "    :...No. of doors = 2:\n",
              "        :...Size of boot = small: bad (206.2/19)\n",
              "        :   Size of boot in {med,big}:\n",
              "        :   :...Price of car in {med,low}: good (115.6/34.9)\n",
              "        :       Price of car in {vhigh,high}: bad (118.4/27)\n",
              "        No. of doors in {4,3,5more}:\n",
              "        :...Cost of maintenance = med: good (106/12.1)\n",
              "            Cost of maintenance in {vhigh,high,low}:\n",
              "            :...Price of car in {vhigh,high}:\n",
              "                :...Cost of maintenance = vhigh: bad (87.1)\n",
              "                :   Cost of maintenance in {high,low}:\n",
              "                :   :...Price of car = vhigh: bad (88/15.5)\n",
              "                :       Price of car = high: good (99.6/24.5)\n",
              "                Price of car in {med,low}:\n",
              "                :...Size of boot in {med,big}: good (188.5/11.5)\n",
              "                    Size of boot = small:\n",
              "                    :...Safety of car = high: good (18.2)\n",
              "                        Safety of car = med:\n",
              "                        :...Cost of maintenance = vhigh: bad (47.2)\n",
              "                            Cost of maintenance in {high,low}: good (46.1/16.3)\n",
              "\n",
              "-----  Trial 9:  -----\n",
              "\n",
              "Decision tree:\n",
              "\n",
              "No. of seats = 2: bad (42.2)\n",
              "No. of seats in {more,4}:\n",
              ":...Safety of car = low: bad (27.4)\n",
              "    Safety of car in {high,med}:\n",
              "    :...Size of boot = small:\n",
              "        :...No. of seats = 4:\n",
              "        :   :...Safety of car = high: good (85.6/19.9)\n",
              "        :   :   Safety of car = med: bad (103.9/35.9)\n",
              "        :   No. of seats = more:\n",
              "        :   :...No. of doors = 2: bad (126.9)\n",
              "        :       No. of doors in {4,3,5more}:\n",
              "        :       :...Safety of car = high: good (49.1/10.2)\n",
              "        :           Safety of car = med: bad (89.1/13.8)\n",
              "        Size of boot in {med,big}:\n",
              "        :...Cost of maintenance in {med,low}:\n",
              "            :...Safety of car = high: good (101.1)\n",
              "            :   Safety of car = med:\n",
              "            :   :...Size of boot = big: good (38.6)\n",
              "            :       Size of boot = med:\n",
              "            :       :...No. of doors = 2: bad (32.9/10.3)\n",
              "            :           No. of doors in {4,3,5more}: good (64.7/8.9)\n",
              "            Cost of maintenance in {vhigh,high}:\n",
              "            :...Price of car = vhigh: bad (81.4)\n",
              "                Price of car in {med,low,high}:\n",
              "                :...No. of doors in {4,5more}: good (131.8/19.6)\n",
              "                    No. of doors in {2,3}:\n",
              "                    :...Size of boot = big: good (84.9/16.4)\n",
              "                        Size of boot = med:\n",
              "                        :...Safety of car = high: good (27/6.3)\n",
              "                            Safety of car = med: bad (122.3/25.2)\n",
              "\n",
              "\n",
              "Evaluation on training data (1209 cases):\n",
              "\n",
              "Trial\t    Decision Tree   \n",
              "-----\t  ----------------  \n",
              "\t  Size      Errors  \n",
              "\n",
              "   0\t    22   14( 1.2%)\n",
              "   1\t    11   83( 6.9%)\n",
              "   2\t    17   87( 7.2%)\n",
              "   3\t    12   67( 5.5%)\n",
              "   4\t    15   73( 6.0%)\n",
              "   5\t    17   42( 3.5%)\n",
              "   6\t    17   67( 5.5%)\n",
              "   7\t    17   41( 3.4%)\n",
              "   8\t    13   72( 6.0%)\n",
              "   9\t    16   66( 5.5%)\n",
              "boost\t          1( 0.1%)   <<\n",
              "\n",
              "\n",
              "\t   (a)   (b)    <-classified as\n",
              "\t  ----  ----\n",
              "\t   841          (a): class bad\n",
              "\t     1   367    (b): class good\n",
              "\n",
              "\n",
              "\tAttribute usage:\n",
              "\n",
              "\t100.00%\tNo. of seats\n",
              "\t100.00%\tSafety of car\n",
              "\t 55.00%\tSize of boot\n",
              "\t 51.12%\tCost of maintenance\n",
              "\t 43.51%\tPrice of car\n",
              "\t 43.51%\tNo. of doors\n",
              "\n",
              "\n",
              "Time: 0.0 secs\n"
            ]
          },
          "metadata": {}
        }
      ],
      "source": [
        "car_boost10 <- C5.0(car_train70[-7], car_train70$Quality,\n",
        "trials = 10)\n",
        "\n",
        "\n",
        "summary(car_boost10)"
      ]
    },
    {
      "cell_type": "markdown",
      "metadata": {
        "id": "4419_eZJDR04"
      },
      "source": [
        "Finally, I boost the test dataset. It yields an accuracy of 98.6%. Boosting has lowered the error rate by half! "
      ]
    },
    {
      "cell_type": "code",
      "execution_count": 66,
      "metadata": {
        "id": "sGkwVmENDRAU",
        "colab": {
          "base_uri": "https://localhost:8080/"
        },
        "outputId": "6f296780-7ec1-4e33-c8ca-2e5495b30387"
      },
      "outputs": [
        {
          "output_type": "stream",
          "name": "stdout",
          "text": [
            "\n",
            " \n",
            "   Cell Contents\n",
            "|-------------------------|\n",
            "|                       N |\n",
            "|         N / Table Total |\n",
            "|-------------------------|\n",
            "\n",
            " \n",
            "Total Observations in Table:  518 \n",
            "\n",
            " \n",
            "                | predicted decision \n",
            "actual decision |       bad |      good | Row Total | \n",
            "----------------|-----------|-----------|-----------|\n",
            "            bad |       364 |         4 |       368 | \n",
            "                |     0.703 |     0.008 |           | \n",
            "----------------|-----------|-----------|-----------|\n",
            "           good |         3 |       147 |       150 | \n",
            "                |     0.006 |     0.284 |           | \n",
            "----------------|-----------|-----------|-----------|\n",
            "   Column Total |       367 |       151 |       518 | \n",
            "----------------|-----------|-----------|-----------|\n",
            "\n",
            " \n"
          ]
        }
      ],
      "source": [
        "car_boost_pred10 <- predict(car_boost10, car_test30)\n",
        "\n",
        "\n",
        "CrossTable(car_test30$Quality, car_boost_pred10,\n",
        "prop.chisq = FALSE, prop.c = FALSE, prop.r = FALSE,\n",
        "dnn = c('actual decision', 'predicted decision'))"
      ]
    },
    {
      "cell_type": "markdown",
      "source": [
        "CONCLUSION\n",
        "\n",
        "The C5.0 decision tree algorithm is very well-suited to classifying cars, as it has achieved high degree of accuracy, at 98.6%!\n",
        "\n",
        "I believe these results are very encouraging toward the use of machine learning models as a tool to facilitate consumer decision making. Although the model was only tested on cars in this example, I think there are possibilities toward a wide range of applications on similar consumer goods (especially larger purchases like houses). "
      ],
      "metadata": {
        "id": "ONFl_HIK2_WE"
      }
    }
  ],
  "metadata": {
    "colab": {
      "provenance": [],
      "authorship_tag": "ABX9TyMM3XgTpxZbu3noxpSZ+zYu",
      "include_colab_link": true
    },
    "kernelspec": {
      "display_name": "R",
      "name": "ir"
    },
    "language_info": {
      "name": "R"
    }
  },
  "nbformat": 4,
  "nbformat_minor": 0
}